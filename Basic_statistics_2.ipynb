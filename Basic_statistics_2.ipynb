{
  "nbformat": 4,
  "nbformat_minor": 0,
  "metadata": {
    "colab": {
      "provenance": []
    },
    "kernelspec": {
      "name": "python3",
      "display_name": "Python 3"
    },
    "language_info": {
      "name": "python"
    }
  },
  "cells": [
    {
      "cell_type": "markdown",
      "source": [
        "Question 1\n",
        "\tLook at the data given below. Plot the data, find the outliers and find out  μ,σ,σ^2\n",
        "\n",
        "Name of company\tMeasure X\n",
        "Allied Signal\t24.23%\n",
        "Bankers Trust\t25.53%\n",
        "General Mills\t25.41%\n",
        "ITT Industries\t24.14%\n",
        "J.P.Morgan & Co.\t29.62%\n",
        "Lehman Brothers\t28.25%\n",
        "Marriott\t25.81%\n",
        "MCI\t24.39%\n",
        "Merrill Lynch\t40.26%\n",
        "Microsoft\t32.95%\n",
        "Morgan Stanley\t91.36%\n",
        "Sun Microsystems\t25.99%\n",
        "Travelers\t39.42%\n",
        "US Airways\t26.71%\n",
        "Warner-Lambert\t35.00%\n"
      ],
      "metadata": {
        "id": "QIlr8HLQckQQ"
      }
    }
  ]
}